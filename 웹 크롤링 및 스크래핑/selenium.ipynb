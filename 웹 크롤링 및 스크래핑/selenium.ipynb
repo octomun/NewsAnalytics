{
 "cells": [
  {
   "cell_type": "code",
   "execution_count": 184,
   "metadata": {},
   "outputs": [],
   "source": [
    "#pip install selenium"
   ]
  },
  {
   "cell_type": "code",
   "execution_count": 185,
   "metadata": {},
   "outputs": [],
   "source": [
    "from selenium import webdriver\n",
    "from selenium.webdriver.common.keys import Keys\n",
    "import time\n",
    "import pandas as pd"
   ]
  },
  {
   "cell_type": "code",
   "execution_count": 186,
   "metadata": {},
   "outputs": [],
   "source": [
    "Chromedriver = 'F:/news/newss/Chromedriver.exe'\n",
    "driver = webdriver.Chrome(Chromedriver)\n",
    "driver.get(\"https://www.mbn.co.kr/\")\n",
    "assert \"MBN\" in driver.title\n",
    "time.sleep(2)"
   ]
  },
  {
   "cell_type": "code",
   "execution_count": 187,
   "metadata": {},
   "outputs": [],
   "source": [
    "#driver.find_elements_by_id(\"buttonPreSearch\").click()\n",
    "searchbotten = driver.find_element_by_id('buttonPreSearch')\n",
    "searchbotten.click()\n",
    "search = driver.find_element_by_id('query')\n",
    "search.send_keys('sk하이닉스')\n",
    "search.send_keys(Keys.RETURN)\n",
    "time.sleep(2)"
   ]
  },
  {
   "cell_type": "code",
   "execution_count": 188,
   "metadata": {},
   "outputs": [],
   "source": [
    "# 반복문에서 작동 안함\n",
    "#text를 통해 뉴스를 확인하고 그에 맞는 더보기를 클릭하려 했지만 실패\n",
    "# i=0\n",
    "# while i < 2:\n",
    "#     print(i)\n",
    "#     xpath=\"//*[@id='wrap']/div[3]/div[1]/div[{}]/div/div[1]/h3\".format(i)\n",
    "#     xpath='\"'+xpath+'\"'\n",
    "#     i += 1\n",
    "#     print(xpath)\n",
    "\n",
    "# more = driver.find_element_by_xpath(\"//*[@id='wrap']/div[3]/div[1]/div[1]/div/div[1]/h3\")\n",
    "# more.text\n",
    "# if more.text == '뉴스':\n",
    "#     more = driver.find_element_by_xpath(\"//*[@id='wrap']/div[3]/div[1]/div[2]/div/div[1]/h3\")\n",
    "#     more.text\n",
    "# more.text\n",
    "more = driver.find_element_by_xpath('//*[@id=\"wrap\"]/div[3]/div[1]/div[2]/div/div[1]/a')\n",
    "more.click()\n",
    "time.sleep(2)"
   ]
  },
  {
   "cell_type": "code",
   "execution_count": 189,
   "metadata": {},
   "outputs": [],
   "source": [
    "def Countpage():\n",
    "    div_loop=driver.find_element_by_class_name('paging_2018')\n",
    "    a_loop = div_loop.find_elements_by_tag_name(\"a\")\n",
    "    a_loop_sub=0\n",
    "    a_loop_sub += len(div_loop.find_elements_by_class_name(\"pre_end\"))\n",
    "    a_loop_sub += len(div_loop.find_elements_by_class_name(\"pre\"))\n",
    "    a_loop_sub += len(div_loop.find_elements_by_class_name(\"next\"))\n",
    "    a_loop_sub += len(div_loop.find_elements_by_class_name(\"next_end\"))\n",
    "    return len(a_loop)-a_loop_sub\n",
    "\n",
    "#a = len(a_loop)\n",
    "#print(a)"
   ]
  },
  {
   "cell_type": "code",
   "execution_count": 190,
   "metadata": {},
   "outputs": [],
   "source": [
    "href_list=[]\n",
    "date_list=[]\n",
    "def listappend():\n",
    "    div = driver.find_element_by_class_name(\"vod_lst_wrp\")\n",
    "    a_tag = div.find_elements_by_tag_name(\"li\")\n",
    "    #print(tag)\n",
    "    for i in a_tag:\n",
    "        href = i.find_element_by_tag_name(\"a\")\n",
    "        href_list.append(href.get_attribute(\"href\"))\n",
    "        date = i.find_element_by_class_name(\"vod_date\")\n",
    "        date_list.append(date.text)\n",
    "    f = open(\"F:/news/newss/crawling_news2.txt\", 'w')\n",
    "    for i in range(len(date_list)):\n",
    "        f.write(date_list[i]+\", \"+href_list[i]+\"\\n\")\n",
    "    f.close()\n",
    "#df.to_csv('daum_real_time_keyword.csv', index=False)\n",
    "\n",
    "\n",
    "#href = a_tag.find_elements_by_tag_name(\"a\")\n",
    "#href.get_attribute('href')\n",
    "#href = div.find_elements_by_css\n",
    "#(\"vod_lst_wrp\").get_attribute(\"href\")\n",
    "#print(href)\n"
   ]
  },
  {
   "cell_type": "code",
   "execution_count": null,
   "metadata": {
    "scrolled": true
   },
   "outputs": [],
   "source": [
    "while len(driver.find_elements_by_class_name(\"next\")):\n",
    "    countpage = Countpage()\n",
    "    for i in range(countpage):\n",
    "        listappend()\n",
    "        next = driver.find_element_by_class_name(\"next\")\n",
    "        next.click()\n",
    "        time.sleep(1)"
   ]
  },
  {
   "cell_type": "code",
   "execution_count": null,
   "metadata": {},
   "outputs": [],
   "source": [
    "#함수로 정리해야 함"
   ]
  }
 ],
 "metadata": {
  "kernelspec": {
   "display_name": "Python 3",
   "language": "python",
   "name": "python3"
  },
  "language_info": {
   "codemirror_mode": {
    "name": "ipython",
    "version": 3
   },
   "file_extension": ".py",
   "mimetype": "text/x-python",
   "name": "python",
   "nbconvert_exporter": "python",
   "pygments_lexer": "ipython3",
   "version": "3.8.5"
  }
 },
 "nbformat": 4,
 "nbformat_minor": 4
}

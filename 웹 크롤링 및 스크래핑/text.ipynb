{
 "cells": [
  {
   "cell_type": "code",
   "execution_count": 17,
   "metadata": {},
   "outputs": [],
   "source": [
    "import urllib.request\n",
    "import re\n",
    "from bs4 import BeautifulSoup\n",
    "import numpy as np\n",
    "import pandas as pd\n"
   ]
  },
  {
   "cell_type": "code",
   "execution_count": 2,
   "metadata": {},
   "outputs": [
    {
     "name": "stdout",
     "output_type": "stream",
     "text": [
      "//search.mbn.co.kr/MBN/search_mk_v2.jsp?query=sk%ED%95%98%EC%9D%B4%EB%8B%89%EC%8A%A4&collection=ALL\n"
     ]
    }
   ],
   "source": [
    "url='https://find.mk.co.kr/new/search.php?pageNum=1&cat=&cat1=&media_eco=&pageSize=20&sub=vod&dispFlag=OFF&page=vod&s_kwd=sk%C7%CF%C0%CC%B4%D0%BD%BA&s_page=news&go_page=page&ord=1&ord1=1&ord2=0&s_keyword=sk%C7%CF%C0%CC%B4%D0%BD%BA&s_i_keyword=sk%C7%CF%C0%CC%B4%D0%BD%BA&s_author=&y1=1991&m1=01&d1=01&y2=2021&m2=05&d2=06&ord=1&area=ttbd'\n",
    "req = urllib.request.Request(url)\n",
    "urlopn=urllib.request.urlopen(url)\n",
    "sourcecode = urlopn.read()\n",
    "urlopn.close()\n",
    "soup = BeautifulSoup(sourcecode, \"html.parser\",from_encoding='utf-8')\n",
    "\n",
    "for href in soup.find_all(\"iframe\", attrs={'id':'mbn_vod2'}):\n",
    "    iframe = href[\"src\"]\n",
    "    print(iframe)\n",
    "\n",
    "iframe = 'https:'+iframe\n",
    "req2 = urllib.request.Request(iframe)\n",
    "urlopn2=urllib.request.urlopen(iframe)\n",
    "sourcecode2 = urlopn2.read()\n",
    "urlopn2.close()\n",
    "soup2 = BeautifulSoup(sourcecode2, \"html.parser\",from_encoding='utf-8')\n",
    "\n",
    "newslist=[]\n",
    "\n",
    "for href in soup2.find_all(\"div\", attrs={'class':'box_cont'}):\n",
    "    newslist.append(href.find(\"a\")[\"href\"])\n",
    "\n",
    "#print(href)\n",
    "f = open(\"F:/news/newss/crawling_news.txt\", 'w')\n",
    "for i in range(len(newslist)):\n",
    "    f.write(newslist[i]+\"\\n\")\n",
    "f.close()\n",
    "\n",
    "#-----------------------------------------------------------------"
   ]
  },
  {
   "cell_type": "code",
   "execution_count": 3,
   "metadata": {},
   "outputs": [],
   "source": [
    "#파일 읽어서 가저오기\n",
    "newslist=[]\n",
    "with open(\"F:/news/newss/crawling_news.txt\", \"r\") as f:\n",
    "    lines = f.readlines()\n",
    "    for line in lines:\n",
    "        newslist.append(line)\n",
    "\n",
    "#읽어온 url 검색해서 내용 가저오기\n",
    "for i in range(len(newslist)):\n",
    "    url=newslist[i]\n",
    "    req = urllib.request.Request(url)\n",
    "    urlopn=urllib.request.urlopen(url)\n",
    "    sourcecode = urlopn.read()\n",
    "    urlopn.close()\n",
    "    soup = BeautifulSoup(sourcecode, \"html.parser\",from_encoding='utf-8')\n",
    "    #print(soup)\n",
    "    for href in soup.find_all(\"div\", attrs={'class':'detail'}):\n",
    "        news = href.get_text()\n",
    "        \n"
   ]
  },
  {
   "cell_type": "code",
   "execution_count": 4,
   "metadata": {},
   "outputs": [
    {
     "ename": "UnsupportedOperation",
     "evalue": "not writable",
     "output_type": "error",
     "traceback": [
      "\u001b[1;31m---------------------------------------------------------------------------\u001b[0m",
      "\u001b[1;31mUnsupportedOperation\u001b[0m                      Traceback (most recent call last)",
      "\u001b[1;32m<ipython-input-4-bfbb0df846bc>\u001b[0m in \u001b[0;36m<module>\u001b[1;34m\u001b[0m\n\u001b[0;32m      1\u001b[0m \u001b[0mf\u001b[0m \u001b[1;33m=\u001b[0m \u001b[0mopen\u001b[0m\u001b[1;33m(\u001b[0m\u001b[1;34m\"F:/news/newss/crawling_news.txt\"\u001b[0m\u001b[1;33m,\u001b[0m \u001b[1;34m'r'\u001b[0m\u001b[1;33m)\u001b[0m\u001b[1;33m\u001b[0m\u001b[1;33m\u001b[0m\u001b[0m\n\u001b[0;32m      2\u001b[0m \u001b[1;32mfor\u001b[0m \u001b[0mi\u001b[0m \u001b[1;32min\u001b[0m \u001b[0mrange\u001b[0m\u001b[1;33m(\u001b[0m\u001b[0mlen\u001b[0m\u001b[1;33m(\u001b[0m\u001b[0mnewslist\u001b[0m\u001b[1;33m)\u001b[0m\u001b[1;33m)\u001b[0m\u001b[1;33m:\u001b[0m\u001b[1;33m\u001b[0m\u001b[1;33m\u001b[0m\u001b[0m\n\u001b[1;32m----> 3\u001b[1;33m     \u001b[0mf\u001b[0m\u001b[1;33m.\u001b[0m\u001b[0mwrite\u001b[0m\u001b[1;33m(\u001b[0m\u001b[0mnewslist\u001b[0m\u001b[1;33m[\u001b[0m\u001b[0mi\u001b[0m\u001b[1;33m]\u001b[0m\u001b[1;33m+\u001b[0m\u001b[1;34m\"\\n\"\u001b[0m\u001b[1;33m)\u001b[0m\u001b[1;33m\u001b[0m\u001b[1;33m\u001b[0m\u001b[0m\n\u001b[0m\u001b[0;32m      4\u001b[0m \u001b[0mf\u001b[0m\u001b[1;33m.\u001b[0m\u001b[0mclose\u001b[0m\u001b[1;33m(\u001b[0m\u001b[1;33m)\u001b[0m\u001b[1;33m\u001b[0m\u001b[1;33m\u001b[0m\u001b[0m\n",
      "\u001b[1;31mUnsupportedOperation\u001b[0m: not writable"
     ]
    }
   ],
   "source": [
    "f = open(\"F:/news/newss/crawling_news.txt\", 'r')\n",
    "for i in range(len(newslist)):\n",
    "    f.write(newslist[i]+\"\\n\")\n",
    "f.close()"
   ]
  },
  {
   "cell_type": "code",
   "execution_count": 56,
   "metadata": {},
   "outputs": [
    {
     "data": {
      "text/plain": [
       "0       https://www.mbn.co.kr/pages/news/newsView.php...\n",
       "1       https://www.mbn.co.kr/pages/news/newsView.php...\n",
       "2       https://www.mbn.co.kr/pages/news/newsView.php...\n",
       "3       https://www.mbn.co.kr/pages/news/newsView.php...\n",
       "4       https://www.mbn.co.kr/pages/news/newsView.php...\n",
       "                             ...                        \n",
       "445     https://www.mbn.co.kr/pages/news/newsView.php...\n",
       "446     https://www.mbn.co.kr/pages/news/newsView.php...\n",
       "447     https://www.mbn.co.kr/pages/news/newsView.php...\n",
       "448     https://www.mbn.co.kr/pages/news/newsView.php...\n",
       "449     https://www.mbn.co.kr/pages/news/newsView.php...\n",
       "Name: url, Length: 450, dtype: object"
      ]
     },
     "execution_count": 56,
     "metadata": {},
     "output_type": "execute_result"
    }
   ],
   "source": [
    "newslist =pd.read_csv(\"F:/news/newss/crawling_news2.txt\",sep=',', header=None,names=['date','url'])\n",
    "newslist['url']"
   ]
  }
 ],
 "metadata": {
  "kernelspec": {
   "display_name": "Python 3",
   "language": "python",
   "name": "python3"
  },
  "language_info": {
   "codemirror_mode": {
    "name": "ipython",
    "version": 3
   },
   "file_extension": ".py",
   "mimetype": "text/x-python",
   "name": "python",
   "nbconvert_exporter": "python",
   "pygments_lexer": "ipython3",
   "version": "3.8.5"
  }
 },
 "nbformat": 4,
 "nbformat_minor": 4
}
